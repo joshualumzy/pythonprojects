{
 "cells": [
  {
   "cell_type": "code",
   "execution_count": 1,
   "metadata": {},
   "outputs": [
    {
     "data": {
      "text/plain": [
       "'\\nVariable\\tDefinition\\tKey\\nsurvival\\tSurvival\\t0 = No, 1 = Yes\\npclass\\tTicket class\\t1 = 1st, 2 = 2nd, 3 = 3rd\\nsex\\tSex\\t\\nAge\\tAge in years\\t\\nsibsp\\t# of siblings / spouses aboard the Titanic\\t\\nparch\\t# of parents / children aboard the Titanic\\t\\nticket\\tTicket number\\t\\nfare\\tPassenger fare\\t\\ncabin\\tCabin number\\t\\nembarked\\tPort of Embarkation\\tC = Cherbourg, Q = Queenstown, S = Southampton\\n\\npclass: A proxy for socio-economic status (SES)\\n1st = Upper\\n2nd = Middle\\n3rd = Lower\\nage: Age is fractional if less than 1. If the age is estimated, is it in the form of xx.5\\nsibsp: The dataset defines family relations in this way...\\nSibling = brother, sister, stepbrother, stepsister\\nSpouse = husband, wife (mistresses and fiancés were ignored)\\nparch: The dataset defines family relations in this way...\\nParent = mother, father\\nChild = daughter, son, stepdaughter, stepson\\nSome children travelled only with a nanny, therefore parch=0 for them.\\n'"
      ]
     },
     "execution_count": 1,
     "metadata": {},
     "output_type": "execute_result"
    }
   ],
   "source": [
    "\"\"\"\n",
    "Variable\tDefinition\tKey\n",
    "survival\tSurvival\t0 = No, 1 = Yes\n",
    "pclass\tTicket class\t1 = 1st, 2 = 2nd, 3 = 3rd\n",
    "sex\tSex\t\n",
    "Age\tAge in years\t\n",
    "sibsp\t# of siblings / spouses aboard the Titanic\t\n",
    "parch\t# of parents / children aboard the Titanic\t\n",
    "ticket\tTicket number\t\n",
    "fare\tPassenger fare\t\n",
    "cabin\tCabin number\t\n",
    "embarked\tPort of Embarkation\tC = Cherbourg, Q = Queenstown, S = Southampton\n",
    "\n",
    "pclass: A proxy for socio-economic status (SES)\n",
    "1st = Upper\n",
    "2nd = Middle\n",
    "3rd = Lower\n",
    "age: Age is fractional if less than 1. If the age is estimated, is it in the form of xx.5\n",
    "sibsp: The dataset defines family relations in this way...\n",
    "Sibling = brother, sister, stepbrother, stepsister\n",
    "Spouse = husband, wife (mistresses and fiancés were ignored)\n",
    "parch: The dataset defines family relations in this way...\n",
    "Parent = mother, father\n",
    "Child = daughter, son, stepdaughter, stepson\n",
    "Some children travelled only with a nanny, therefore parch=0 for them.\n",
    "\"\"\""
   ]
  },
  {
   "cell_type": "code",
   "execution_count": 2,
   "metadata": {},
   "outputs": [],
   "source": [
    "import pandas as pd\n",
    "import numpy as np\n",
    "data = pd.read_csv('train.csv')"
   ]
  },
  {
   "cell_type": "markdown",
   "metadata": {},
   "source": [
    "Potential issues: \n",
    "- Need to encode sex\n",
    "- Missing values in age"
   ]
  },
  {
   "cell_type": "markdown",
   "metadata": {},
   "source": []
  }
 ],
 "metadata": {
  "kernelspec": {
   "display_name": "myenv",
   "language": "python",
   "name": "python3"
  },
  "language_info": {
   "codemirror_mode": {
    "name": "ipython",
    "version": 3
   },
   "file_extension": ".py",
   "mimetype": "text/x-python",
   "name": "python",
   "nbconvert_exporter": "python",
   "pygments_lexer": "ipython3",
   "version": "3.12.3"
  }
 },
 "nbformat": 4,
 "nbformat_minor": 2
}
